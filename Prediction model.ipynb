{
  "nbformat": 4,
  "nbformat_minor": 0,
  "metadata": {
    "colab": {
      "provenance": []
    },
    "kernelspec": {
      "name": "python3",
      "display_name": "Python 3"
    },
    "language_info": {
      "name": "python"
    }
  },
  "cells": [
    {
      "cell_type": "markdown",
      "source": [
        "### Extracting the Dataset zipfile "
      ],
      "metadata": {
        "id": "B3322bV0YF5s"
      }
    },
    {
      "cell_type": "code",
      "execution_count": 8,
      "metadata": {
        "colab": {
          "base_uri": "https://localhost:8080/"
        },
        "id": "_zLJ5yNrTZan",
        "outputId": "04b77dc0-4b4e-45b0-d25e-a42cc69a8ec9"
      },
      "outputs": [
        {
          "output_type": "stream",
          "name": "stdout",
          "text": [
            "Data extracted\n"
          ]
        }
      ],
      "source": [
        "from zipfile import ZipFile\n",
        "# from PIL import Image\n",
        "path = \"/content/drive/MyDrive/Colab Notebooks/datasets/face expression recognition dataset.zip\"\n",
        "\n",
        "with ZipFile(path) as f:\n",
        "  f.extractall(\"./data\")\n",
        "  print(\"Data extracted\")"
      ]
    },
    {
      "cell_type": "markdown",
      "source": [
        "### Importing the required modules"
      ],
      "metadata": {
        "id": "nrcboItLYKAi"
      }
    },
    {
      "cell_type": "code",
      "source": [
        "from tensorflow import keras\n",
        "from PIL import Image\n",
        "import tensorflow as tf\n",
        "import numpy as np\n",
        "import pandas as pd\n",
        "from tensorflow.keras import layers"
      ],
      "metadata": {
        "id": "YyKdqMZAThe-"
      },
      "execution_count": 30,
      "outputs": []
    },
    {
      "cell_type": "markdown",
      "source": [
        "### load the model"
      ],
      "metadata": {
        "id": "vPVtAuLdYYGw"
      }
    },
    {
      "cell_type": "code",
      "source": [
        "model =  tf.keras.models.load_model(\"/content/drive/MyDrive/Colab Notebooks/datasets/face_exp_rec_model.h5\")"
      ],
      "metadata": {
        "id": "PYxbgPPbYVB2"
      },
      "execution_count": 29,
      "outputs": []
    },
    {
      "cell_type": "markdown",
      "source": [
        "### creating the class names from the files folder to print the predicted output is related to which class"
      ],
      "metadata": {
        "id": "eOaCfCTmYeUl"
      }
    },
    {
      "cell_type": "code",
      "source": [
        "classes = [\n",
        "    \"angry\",\n",
        "    \"fear\",\n",
        "    \"happy\",\n",
        "    \"neutral\",\n",
        "    \"sad\",\n",
        "    \"surprise\"\n",
        "]"
      ],
      "metadata": {
        "id": "w_yFLwcTTycf"
      },
      "execution_count": 21,
      "outputs": []
    },
    {
      "cell_type": "markdown",
      "source": [
        "### model summary"
      ],
      "metadata": {
        "id": "AdtJoBMJYsYV"
      }
    },
    {
      "cell_type": "code",
      "source": [
        "model.summary()"
      ],
      "metadata": {
        "colab": {
          "base_uri": "https://localhost:8080/"
        },
        "id": "AE6DPwZNUWQ7",
        "outputId": "fc841332-6d4d-462e-db81-3f897887bd7d"
      },
      "execution_count": 22,
      "outputs": [
        {
          "output_type": "stream",
          "name": "stdout",
          "text": [
            "Model: \"sequential_13\"\n",
            "_________________________________________________________________\n",
            " Layer (type)                Output Shape              Param #   \n",
            "=================================================================\n",
            " conv2d_48 (Conv2D)          (None, 48, 48, 18)        468       \n",
            "                                                                 \n",
            " max_pooling2d_48 (MaxPoolin  (None, 24, 24, 18)       0         \n",
            " g2D)                                                            \n",
            "                                                                 \n",
            " conv2d_49 (Conv2D)          (None, 24, 24, 18)        2934      \n",
            "                                                                 \n",
            " max_pooling2d_49 (MaxPoolin  (None, 12, 12, 18)       0         \n",
            " g2D)                                                            \n",
            "                                                                 \n",
            " conv2d_50 (Conv2D)          (None, 12, 12, 36)        5868      \n",
            "                                                                 \n",
            " max_pooling2d_50 (MaxPoolin  (None, 6, 6, 36)         0         \n",
            " g2D)                                                            \n",
            "                                                                 \n",
            " flatten_14 (Flatten)        (None, 1296)              0         \n",
            "                                                                 \n",
            " dense_28 (Dense)            (None, 100)               129700    \n",
            "                                                                 \n",
            " dense_29 (Dense)            (None, 10)                1010      \n",
            "                                                                 \n",
            " activation_12 (Activation)  (None, 10)                0         \n",
            "                                                                 \n",
            "=================================================================\n",
            "Total params: 139,980\n",
            "Trainable params: 139,980\n",
            "Non-trainable params: 0\n",
            "_________________________________________________________________\n"
          ]
        }
      ]
    },
    {
      "cell_type": "markdown",
      "source": [
        "### Predicting the model with accuracy"
      ],
      "metadata": {
        "id": "ywifoBw-Y2p6"
      }
    },
    {
      "cell_type": "code",
      "source": [
        "def Pred(img):\n",
        "    img = Image.open(img)\n",
        "    img = img.resize((48,48))\n",
        "    test = tf.reshape(tf.constant(np.array(img)/255,dtype=tf.float32), (-1,48,48,1))\n",
        "    preds = model.predict(test,verbose = False)[0]*100\n",
        "    # print(preds)\n",
        "    preds = tf.math.round(preds)\n",
        "    confidence = tf.reduce_max(preds)\n",
        "\n",
        "    index = int(tf.where(preds == confidence)[0][0])\n",
        "    pred = classes[index]\n",
        "    return f\"{pred.title()} {int(confidence)}%\""
      ],
      "metadata": {
        "id": "mgpYGgUnU045"
      },
      "execution_count": 81,
      "outputs": []
    },
    {
      "cell_type": "markdown",
      "source": [
        "### Prediction for Happy Expression"
      ],
      "metadata": {
        "id": "1ovA1DxRiBmh"
      }
    },
    {
      "cell_type": "code",
      "source": [
        "img = Image.open(\"/content/data/archive(2)/images/validation/happy/10106.jpg\")\n",
        "img"
      ],
      "metadata": {
        "colab": {
          "base_uri": "https://localhost:8080/",
          "height": 65
        },
        "id": "UcP1oXUmiHNK",
        "outputId": "a10ed54e-cd4d-4dc0-e9b2-0bb8955e4d00"
      },
      "execution_count": 79,
      "outputs": [
        {
          "output_type": "execute_result",
          "data": {
            "text/plain": [
              "<PIL.JpegImagePlugin.JpegImageFile image mode=L size=48x48 at 0x7F15539A4130>"
            ],
            "image/png": "[encoded data removed]"
          },
          "metadata": {},
          "execution_count": 79
        }
      ]
    },
    {
      "cell_type": "code",
      "source": [
        "Pred(\"/content/data/archive(2)/images/validation/happy/10106.jpg\")"
      ],
      "metadata": {
        "colab": {
          "base_uri": "https://localhost:8080/",
          "height": 36
        },
        "id": "yjcrx2r9ehT5",
        "outputId": "3c91aa79-7903-402a-9467-a0f21db9aeb0"
      },
      "execution_count": 82,
      "outputs": [
        {
          "output_type": "execute_result",
          "data": {
            "text/plain": [
              "'Happy 100%'"
            ],
            "application/vnd.google.colaboratory.intrinsic+json": {
              "type": "string"
            }
          },
          "metadata": {},
          "execution_count": 82
        }
      ]
    },
    {
      "cell_type": "markdown",
      "source": [
        "### Prediction for Angry Expression"
      ],
      "metadata": {
        "id": "fm6-TYlBib64"
      }
    },
    {
      "cell_type": "code",
      "source": [
        "img = Image.open(\"/content/data/archive(2)/images/validation/angry/10336.jpg\")\n",
        "img"
      ],
      "metadata": {
        "colab": {
          "base_uri": "https://localhost:8080/",
          "height": 65
        },
        "id": "UbTM1emhijg0",
        "outputId": "b87a50c2-5eed-4ebd-ecaa-55560f4fb40f"
      },
      "execution_count": 77,
      "outputs": [
        {
          "output_type": "execute_result",
          "data": {
            "text/plain": [
              "<PIL.JpegImagePlugin.JpegImageFile image mode=L size=48x48 at 0x7F1551881130>"
            ],
            "image/png": "[encoded data removed]"
          },
          "metadata": {},
          "execution_count": 77
        }
      ]
    },
    {
      "cell_type": "code",
      "source": [
        "Pred(\"/content/data/archive(2)/images/validation/angry/10336.jpg\")"
      ],
      "metadata": {
        "colab": {
          "base_uri": "https://localhost:8080/",
          "height": 36
        },
        "id": "AVIMK-sefLYo",
        "outputId": "7e1138ac-9b94-4e1d-aae1-bc60c01f0e35"
      },
      "execution_count": 59,
      "outputs": [
        {
          "output_type": "execute_result",
          "data": {
            "text/plain": [
              "'Angry 100%'"
            ],
            "application/vnd.google.colaboratory.intrinsic+json": {
              "type": "string"
            }
          },
          "metadata": {},
          "execution_count": 59
        }
      ]
    },
    {
      "cell_type": "markdown",
      "source": [
        "### Prediction for fear Expression"
      ],
      "metadata": {
        "id": "5m9iQ6A6jRqN"
      }
    },
    {
      "cell_type": "code",
      "source": [
        "img = Image.open(\"/content/data/archive(2)/images/validation/fear/10437.jpg\")\n",
        "img"
      ],
      "metadata": {
        "colab": {
          "base_uri": "https://localhost:8080/",
          "height": 65
        },
        "id": "GUPOy0gcketc",
        "outputId": "39e3a7a8-9cee-45a8-f48c-4185d4f2bf23"
      },
      "execution_count": 83,
      "outputs": [
        {
          "output_type": "execute_result",
          "data": {
            "text/plain": [
              "<PIL.JpegImagePlugin.JpegImageFile image mode=L size=48x48 at 0x7F1556AB7850>"
            ],
            "image/png": "[encoded data removed]"
          },
          "metadata": {},
          "execution_count": 83
        }
      ]
    },
    {
      "cell_type": "code",
      "source": [
        "Pred(\"/content/data/archive(2)/images/validation/fear/10437.jpg\")"
      ],
      "metadata": {
        "colab": {
          "base_uri": "https://localhost:8080/",
          "height": 36
        },
        "id": "bKqtGZV3ghPs",
        "outputId": "12619ab1-e3cf-4e18-e6d8-9d94d433d5ab"
      },
      "execution_count": 69,
      "outputs": [
        {
          "output_type": "execute_result",
          "data": {
            "text/plain": [
              "'Fear 100%'"
            ],
            "application/vnd.google.colaboratory.intrinsic+json": {
              "type": "string"
            }
          },
          "metadata": {},
          "execution_count": 69
        }
      ]
    },
    {
      "cell_type": "markdown",
      "source": [
        "### Prediction for neutral Expression"
      ],
      "metadata": {
        "id": "mD8CeMhUkPuJ"
      }
    },
    {
      "cell_type": "code",
      "source": [
        "img = Image.open(\"/content/data/archive(2)/images/validation/neutral/10247.jpg\")\n",
        "img"
      ],
      "metadata": {
        "colab": {
          "base_uri": "https://localhost:8080/",
          "height": 65
        },
        "id": "1fS54arykl4h",
        "outputId": "40de8024-cc93-447a-a7c6-a6401c518c44"
      },
      "execution_count": 84,
      "outputs": [
        {
          "output_type": "execute_result",
          "data": {
            "text/plain": [
              "<PIL.JpegImagePlugin.JpegImageFile image mode=L size=48x48 at 0x7F15518820D0>"
            ],
            "image/png": "[encoded data removed]"
          },
          "metadata": {},
          "execution_count": 84
        }
      ]
    },
    {
      "cell_type": "code",
      "source": [
        "Pred(\"/content/data/archive(2)/images/validation/neutral/10247.jpg\")"
      ],
      "metadata": {
        "colab": {
          "base_uri": "https://localhost:8080/",
          "height": 36
        },
        "id": "hd6GwadMhOqQ",
        "outputId": "e0127295-fb49-4552-92ae-1691eeffcb6f"
      },
      "execution_count": 85,
      "outputs": [
        {
          "output_type": "execute_result",
          "data": {
            "text/plain": [
              "'Neutral 99%'"
            ],
            "application/vnd.google.colaboratory.intrinsic+json": {
              "type": "string"
            }
          },
          "metadata": {},
          "execution_count": 85
        }
      ]
    },
    {
      "cell_type": "markdown",
      "source": [
        "### Prediction for sad Expression"
      ],
      "metadata": {
        "id": "Ugvs_jUwkUFt"
      }
    },
    {
      "cell_type": "code",
      "source": [
        "img = Image.open(\"/content/data/archive(2)/images/validation/sad/1026.jpg\")\n",
        "img"
      ],
      "metadata": {
        "colab": {
          "base_uri": "https://localhost:8080/",
          "height": 65
        },
        "id": "gIsBc0wKkt63",
        "outputId": "9c20ddc5-858e-4706-efd0-7d112016ea6a"
      },
      "execution_count": 86,
      "outputs": [
        {
          "output_type": "execute_result",
          "data": {
            "text/plain": [
              "<PIL.JpegImagePlugin.JpegImageFile image mode=L size=48x48 at 0x7F1556AB73D0>"
            ],
            "image/png": "[encoded data removed]"
          },
          "metadata": {},
          "execution_count": 86
        }
      ]
    },
    {
      "cell_type": "code",
      "source": [
        "Pred(\"/content/data/archive(2)/images/validation/sad/1026.jpg\")"
      ],
      "metadata": {
        "colab": {
          "base_uri": "https://localhost:8080/",
          "height": 36
        },
        "id": "e4wzNXiphYxp",
        "outputId": "f82d4e0e-6da0-4b1b-9911-8a458b263dcd"
      },
      "execution_count": 71,
      "outputs": [
        {
          "output_type": "execute_result",
          "data": {
            "text/plain": [
              "'Sad 100%'"
            ],
            "application/vnd.google.colaboratory.intrinsic+json": {
              "type": "string"
            }
          },
          "metadata": {},
          "execution_count": 71
        }
      ]
    },
    {
      "cell_type": "markdown",
      "source": [
        "### Prediction for surprise Expression"
      ],
      "metadata": {
        "id": "IJaNLo_DkXbB"
      }
    },
    {
      "cell_type": "code",
      "source": [
        "img = Image.open(\"/content/data/archive(2)/images/validation/surprise/10701.jpg\")\n",
        "img"
      ],
      "metadata": {
        "colab": {
          "base_uri": "https://localhost:8080/",
          "height": 65
        },
        "id": "Zs85eZCVk0xf",
        "outputId": "9efcb550-7052-475e-9297-c7686d8fc655"
      },
      "execution_count": 87,
      "outputs": [
        {
          "output_type": "execute_result",
          "data": {
            "text/plain": [
              "<PIL.JpegImagePlugin.JpegImageFile image mode=L size=48x48 at 0x7F15518D9550>"
            ],
            "image/png": "[encoded data removed]"
          },
          "metadata": {},
          "execution_count": 87
        }
      ]
    },
    {
      "cell_type": "code",
      "source": [
        "Pred(\"/content/data/archive(2)/images/validation/surprise/10701.jpg\")"
      ],
      "metadata": {
        "colab": {
          "base_uri": "https://localhost:8080/",
          "height": 36
        },
        "id": "iwK3s_iuhhht",
        "outputId": "ef9addee-d715-45c7-8127-441d87b3263f"
      },
      "execution_count": 88,
      "outputs": [
        {
          "output_type": "execute_result",
          "data": {
            "text/plain": [
              "'Surprise 100%'"
            ],
            "application/vnd.google.colaboratory.intrinsic+json": {
              "type": "string"
            }
          },
          "metadata": {},
          "execution_count": 88
        }
      ]
    }
  ]
}