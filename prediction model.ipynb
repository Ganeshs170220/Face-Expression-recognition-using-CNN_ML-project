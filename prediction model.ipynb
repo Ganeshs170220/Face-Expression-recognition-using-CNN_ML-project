{
  "nbformat": 4,
  "nbformat_minor": 0,
  "metadata": {
    "colab": {
      "provenance": []
    },
    "kernelspec": {
      "name": "python3",
      "display_name": "Python 3"
    },
    "language_info": {
      "name": "python"
    }
  },
  "cells": [
    {
      "cell_type": "markdown",
      "source": [
        "### Extracting the Dataset zipfile "
      ],
      "metadata": {
        "id": "B3322bV0YF5s"
      }
    },
    {
      "cell_type": "code",
      "execution_count": 8,
      "metadata": {
        "colab": {
          "base_uri": "https://localhost:8080/"
        },
        "id": "_zLJ5yNrTZan",
        "outputId": "04b77dc0-4b4e-45b0-d25e-a42cc69a8ec9"
      },
      "outputs": [
        {
          "output_type": "stream",
          "name": "stdout",
          "text": [
            "Data extracted\n"
          ]
        }
      ],
      "source": [
        "from zipfile import ZipFile\n",
        "# from PIL import Image\n",
        "path = \"/content/drive/MyDrive/Colab Notebooks/datasets/face expression recognition dataset.zip\"\n",
        "\n",
        "with ZipFile(path) as f:\n",
        "  f.extractall(\"./data\")\n",
        "  print(\"Data extracted\")"
      ]
    },
    {
      "cell_type": "markdown",
      "source": [
        "### Importing the required modules"
      ],
      "metadata": {
        "id": "nrcboItLYKAi"
      }
    },
    {
      "cell_type": "code",
      "source": [
        "from tensorflow import keras\n",
        "from PIL import Image\n",
        "import tensorflow as tf\n",
        "import numpy as np\n",
        "import pandas as pd\n",
        "from tensorflow.keras import layers"
      ],
      "metadata": {
        "id": "YyKdqMZAThe-"
      },
      "execution_count": 30,
      "outputs": []
    },
    {
      "cell_type": "markdown",
      "source": [
        "### load the model"
      ],
      "metadata": {
        "id": "vPVtAuLdYYGw"
      }
    },
    {
      "cell_type": "code",
      "source": [
        "model =  tf.keras.models.load_model(\"/content/drive/MyDrive/Colab Notebooks/datasets/face_exp_rec_model.h5\")"
      ],
      "metadata": {
        "id": "PYxbgPPbYVB2"
      },
      "execution_count": 29,
      "outputs": []
    },
    {
      "cell_type": "markdown",
      "source": [
        "### creating the class names from the files folder to print the predicted output is related to which class"
      ],
      "metadata": {
        "id": "eOaCfCTmYeUl"
      }
    },
    {
      "cell_type": "code",
      "source": [
        "classes = [\n",
        "    \"angry\",\n",
        "    \"fear\",\n",
        "    \"happy\",\n",
        "    \"neutral\",\n",
        "    \"sad\",\n",
        "    \"surprise\"\n",
        "]"
      ],
      "metadata": {
        "id": "w_yFLwcTTycf"
      },
      "execution_count": 21,
      "outputs": []
    },
    {
      "cell_type": "markdown",
      "source": [
        "### model summary"
      ],
      "metadata": {
        "id": "AdtJoBMJYsYV"
      }
    },
    {
      "cell_type": "code",
      "source": [
        "model.summary()"
      ],
      "metadata": {
        "colab": {
          "base_uri": "https://localhost:8080/"
        },
        "id": "AE6DPwZNUWQ7",
        "outputId": "fc841332-6d4d-462e-db81-3f897887bd7d"
      },
      "execution_count": 22,
      "outputs": [
        {
          "output_type": "stream",
          "name": "stdout",
          "text": [
            "Model: \"sequential_13\"\n",
            "_________________________________________________________________\n",
            " Layer (type)                Output Shape              Param #   \n",
            "=================================================================\n",
            " conv2d_48 (Conv2D)          (None, 48, 48, 18)        468       \n",
            "                                                                 \n",
            " max_pooling2d_48 (MaxPoolin  (None, 24, 24, 18)       0         \n",
            " g2D)                                                            \n",
            "                                                                 \n",
            " conv2d_49 (Conv2D)          (None, 24, 24, 18)        2934      \n",
            "                                                                 \n",
            " max_pooling2d_49 (MaxPoolin  (None, 12, 12, 18)       0         \n",
            " g2D)                                                            \n",
            "                                                                 \n",
            " conv2d_50 (Conv2D)          (None, 12, 12, 36)        5868      \n",
            "                                                                 \n",
            " max_pooling2d_50 (MaxPoolin  (None, 6, 6, 36)         0         \n",
            " g2D)                                                            \n",
            "                                                                 \n",
            " flatten_14 (Flatten)        (None, 1296)              0         \n",
            "                                                                 \n",
            " dense_28 (Dense)            (None, 100)               129700    \n",
            "                                                                 \n",
            " dense_29 (Dense)            (None, 10)                1010      \n",
            "                                                                 \n",
            " activation_12 (Activation)  (None, 10)                0         \n",
            "                                                                 \n",
            "=================================================================\n",
            "Total params: 139,980\n",
            "Trainable params: 139,980\n",
            "Non-trainable params: 0\n",
            "_________________________________________________________________\n"
          ]
        }
      ]
    },
    {
      "cell_type": "markdown",
      "source": [
        "### Taking the new image from validation folder and resize it"
      ],
      "metadata": {
        "id": "pVidvpmHYvMi"
      }
    },
    {
      "cell_type": "code",
      "source": [
        "img = Image.open(\"/content/data/archive(2)/images/validation/happy/10106.jpg\")\n",
        "img = img.resize((48,48))\n",
        "img"
      ],
      "metadata": {
        "colab": {
          "base_uri": "https://localhost:8080/",
          "height": 65
        },
        "id": "IDSZCIFnUb2a",
        "outputId": "7f9b8bad-4820-49c2-9285-814352994bf8"
      },
      "execution_count": 27,
      "outputs": [
        {
          "output_type": "execute_result",
          "data": {
            "text/plain": [
              "<PIL.Image.Image image mode=L size=48x48 at 0x7F1556328790>"
            ],
            "image/png": "[encoded data removed]"
          },
          "metadata": {},
          "execution_count": 27
        }
      ]
    },
    {
      "cell_type": "markdown",
      "source": [
        "### Predicting the model with accuracy"
      ],
      "metadata": {
        "id": "ywifoBw-Y2p6"
      }
    },
    {
      "cell_type": "code",
      "source": [
        "test = tf.reshape(tf.constant(np.array(img)/255,dtype=tf.float32), (-1,48,48,1))\n",
        "preds = model.predict(test,verbose = False)[0]*100\n",
        "# print(preds)\n",
        "preds = tf.math.round(preds)\n",
        "confidence = tf.reduce_max(preds)\n",
        "\n",
        "index = int(tf.where(preds == confidence)[0][0])\n",
        "pred = classes[index]\n",
        "print(pred.title(),int(confidence),\"%\")"
      ],
      "metadata": {
        "colab": {
          "base_uri": "https://localhost:8080/"
        },
        "id": "mgpYGgUnU045",
        "outputId": "c6657413-d69a-4ef4-f8f4-032b3c0f83c9"
      },
      "execution_count": 28,
      "outputs": [
        {
          "output_type": "stream",
          "name": "stdout",
          "text": [
            "Happy 100 %\n"
          ]
        }
      ]
    }
  ]
}